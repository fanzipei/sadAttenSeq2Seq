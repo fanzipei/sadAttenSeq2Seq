{
 "cells": [
  {
   "cell_type": "code",
   "execution_count": 1,
   "metadata": {
    "collapsed": true
   },
   "outputs": [],
   "source": [
    "import torch\n",
    "import torch.nn as nn\n",
    "from torch.autograd import Variable\n",
    "import numpy as np\n",
    "from itertools import chain"
   ]
  },
  {
   "cell_type": "code",
   "execution_count": 2,
   "metadata": {
    "collapsed": true
   },
   "outputs": [],
   "source": [
    "class AttnEncoder(nn.Module):\n",
    "    def __init__(self, loc_num, embedding_dim, hidden_dim, n_layers=2):\n",
    "        super(AttnEncoder, self).__init__()\n",
    "        self.embedding = nn.Embedding(loc_num, embedding_dim)\n",
    "        self.gru = nn.GRU(embedding_dim, hidden_dim, num_layers=n_layers, batch_first=True)\n",
    "    \n",
    "    def forward(self, x):\n",
    "        embedded = self.embedding(x)\n",
    "        output, hidden = self.gru(embedded, None)\n",
    "        return output, hidden"
   ]
  },
  {
   "cell_type": "code",
   "execution_count": 3,
   "metadata": {
    "collapsed": true
   },
   "outputs": [],
   "source": [
    "class AttnDecoder(nn.Module):\n",
    "    def __init__(self, loc_num, embedding_dim, hidden_dim, length, n_layers=2):\n",
    "        super(AttnDecoder, self).__init__()\n",
    "        self.embedding = nn.Embedding(loc_num, embedding_dim)\n",
    "        self.gru = nn.GRU(embedding_dim, hidden_dim, num_layers=n_layers, batch_first=True)\n",
    "        self.attn = nn.Linear(hidden_dim, hidden_dim)\n",
    "        self.out = nn.Linear(hidden_dim * 2, loc_num - 2)\n",
    "        \n",
    "    def forward(self, encoder_outputs, x, hidden):\n",
    "        embedded = self.embedding(x)\n",
    "        output, _ = self.gru(embedded, hidden)\n",
    "        weights = self.score(encoder_outputs, output)\n",
    "        context = torch.bmm(weights, encoder_outputs) # B, de_s, hidden_dim\n",
    "        return self.out(torch.cat([context, output], dim=2)), weights\n",
    "        \n",
    "    def score(self, encoder_h, decoder_h):\n",
    "        return nn.functional.softmax(torch.bmm(decoder_h, encoder_h.permute(0, 2, 1)), dim=2) # B, de_s, en_s"
   ]
  },
  {
   "cell_type": "code",
   "execution_count": 4,
   "metadata": {},
   "outputs": [],
   "source": [
    "LOC_NUM = 1443\n",
    "EMBEDDING_DIM = 64\n",
    "HIDDEN_DIM = 256\n",
    "N_LAYERS = 2\n",
    "\n",
    "encoder = AttnEncoder(LOC_NUM, EMBEDDING_DIM, HIDDEN_DIM, N_LAYERS).cuda()\n",
    "decoder = AttnDecoder(LOC_NUM, EMBEDDING_DIM, HIDDEN_DIM, 54).cuda()"
   ]
  },
  {
   "cell_type": "code",
   "execution_count": 5,
   "metadata": {},
   "outputs": [],
   "source": [
    "optimizer = torch.optim.SGD(chain(encoder.parameters(), decoder.parameters()), lr=1e-2, momentum=0.9)\n",
    "optim_scheduler = torch.optim.lr_scheduler.MultiStepLR(optimizer, [2, 4, 6, 8], gamma=0.1)"
   ]
  },
  {
   "cell_type": "code",
   "execution_count": 6,
   "metadata": {
    "collapsed": true
   },
   "outputs": [],
   "source": [
    "criteria = nn.CrossEntropyLoss(ignore_index=-1)"
   ]
  },
  {
   "cell_type": "code",
   "execution_count": null,
   "metadata": {
    "collapsed": true
   },
   "outputs": [],
   "source": [
    "data = np.concatenate([np.genfromtxt('../data/dis_forautoencoder_2012_dec_tokyo/day_{}.csv'.format(d), delimiter=',', dtype=np.int32)\n",
    "                       for d in range(1, 32)], axis=0)\n",
    "data = data[:, 1:]\n",
    "pivot = 90\n",
    "data_in = data[:, :pivot]\n",
    "data_out = data[:, pivot:]\n",
    "data_size = data.shape[0]"
   ]
  },
  {
   "cell_type": "code",
   "execution_count": null,
   "metadata": {},
   "outputs": [
    {
     "name": "stdout",
     "output_type": "stream",
     "text": [
      "Epoch 0001, 100.0%, avg_loss=2.6157\n"
     ]
    },
    {
     "name": "stderr",
     "output_type": "stream",
     "text": [
      "/home/fan/anaconda3/envs/pytorch/lib/python3.6/site-packages/torch/serialization.py:158: UserWarning: Couldn't retrieve source code for container of type AttnEncoder. It won't be checked for correctness upon loading.\n",
      "  \"type \" + obj.__name__ + \". It won't be checked \"\n",
      "/home/fan/anaconda3/envs/pytorch/lib/python3.6/site-packages/torch/serialization.py:158: UserWarning: Couldn't retrieve source code for container of type AttnDecoder. It won't be checked for correctness upon loading.\n",
      "  \"type \" + obj.__name__ + \". It won't be checked \"\n"
     ]
    },
    {
     "name": "stdout",
     "output_type": "stream",
     "text": [
      "Epoch 0002, 100.0%, avg_loss=1.8613\n",
      "Epoch 0003, 100.0%, avg_loss=1.7548\n",
      "Epoch 0004, 93.7%, avg_loss=1.7433\r"
     ]
    }
   ],
   "source": [
    "batch_size = 64\n",
    "\n",
    "for epoch in range(1, 11):\n",
    "    avg_loss = 0.0\n",
    "    cnt = 0\n",
    "    np.random.shuffle(data)\n",
    "    optim_scheduler.step()\n",
    "    for i in range(0, data_size - batch_size, batch_size):\n",
    "        cnt += 1\n",
    "        x_batch = data_in[i: i + batch_size]\n",
    "        y_batch = data_out[i: i + batch_size]\n",
    "        tf_batch = np.ones([batch_size, 54], dtype=np.int32)\n",
    "        tf_batch[:, 1:] = y_batch[:, :-1]\n",
    "\n",
    "        x_batch = Variable(torch.LongTensor(x_batch)).cuda()\n",
    "        y_batch = Variable(torch.LongTensor(y_batch)).cuda()\n",
    "        tf_batch = Variable(torch.LongTensor(tf_batch)).cuda()\n",
    "\n",
    "        encoder_outputs, hidden = encoder(x_batch)\n",
    "        pred, _ = decoder(encoder_outputs, tf_batch, hidden)\n",
    "        loss = criteria(pred.view(-1, LOC_NUM - 2), torch.clamp(y_batch - 2, min=-1).view(-1))\n",
    "\n",
    "        optimizer.zero_grad()\n",
    "        loss.backward()\n",
    "        avg_loss += float(loss.data[0])\n",
    "        optimizer.step()\n",
    "        print('Epoch {:04d}, {:.1f}%, avg_loss={:.4f}'.format(epoch, i * 100 / data_size, avg_loss / cnt), end='\\r')\n",
    "    print('')\n",
    "    torch.save(encoder, '../results/sadAttenSeq2Seq/attn_encoder')\n",
    "    torch.save(decoder, '../results/sadAttenSeq2Seq/attn_decoder')"
   ]
  },
  {
   "cell_type": "code",
   "execution_count": null,
   "metadata": {
    "collapsed": true
   },
   "outputs": [],
   "source": []
  }
 ],
 "metadata": {
  "kernelspec": {
   "display_name": "Conda Pytorch",
   "language": "python",
   "name": "pytorch"
  },
  "language_info": {
   "codemirror_mode": {
    "name": "ipython",
    "version": 3
   },
   "file_extension": ".py",
   "mimetype": "text/x-python",
   "name": "python",
   "nbconvert_exporter": "python",
   "pygments_lexer": "ipython3",
   "version": "3.6.3"
  }
 },
 "nbformat": 4,
 "nbformat_minor": 2
}
