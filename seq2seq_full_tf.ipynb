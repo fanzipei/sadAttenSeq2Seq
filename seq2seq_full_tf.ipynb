{
 "cells": [
  {
   "cell_type": "code",
   "execution_count": 1,
   "metadata": {},
   "outputs": [],
   "source": [
    "import torch\n",
    "import torch.nn as nn\n",
    "from torch.autograd import Variable\n",
    "\n",
    "import numpy as np\n",
    "from itertools import chain\n",
    "\n",
    "from model import Encoder, Decoder"
   ]
  },
  {
   "cell_type": "code",
   "execution_count": 2,
   "metadata": {},
   "outputs": [],
   "source": [
    "data = np.concatenate([np.genfromtxt('../data/dis_forautoencoder_2012_dec_tokyo/day_{}.csv'.format(d), delimiter=',', dtype=np.int32)\n",
    "                       for d in range(1, 32)], axis=0)"
   ]
  },
  {
   "cell_type": "code",
   "execution_count": 3,
   "metadata": {},
   "outputs": [],
   "source": [
    "data = data[:, 1:]"
   ]
  },
  {
   "cell_type": "code",
   "execution_count": 4,
   "metadata": {},
   "outputs": [],
   "source": [
    "pivot = 72\n",
    "T = 144\n",
    "data_in = data[:, :pivot]\n",
    "data_out = data[:, pivot:]"
   ]
  },
  {
   "cell_type": "code",
   "execution_count": 5,
   "metadata": {},
   "outputs": [],
   "source": [
    "data_size = data.shape[0]"
   ]
  },
  {
   "cell_type": "code",
   "execution_count": 6,
   "metadata": {},
   "outputs": [],
   "source": [
    "LOC_NUM = 1443\n",
    "EMBEDDING_DIM = 64\n",
    "HIDDEN_DIM = 256\n",
    "LATENT_DIM = 256\n",
    "N_LAYERS = 2\n",
    "\n",
    "encoder = Encoder(LOC_NUM, EMBEDDING_DIM, HIDDEN_DIM, LATENT_DIM, N_LAYERS).cuda()\n",
    "decoder = Decoder(LOC_NUM, EMBEDDING_DIM, HIDDEN_DIM, LATENT_DIM, N_LAYERS).cuda()"
   ]
  },
  {
   "cell_type": "code",
   "execution_count": 7,
   "metadata": {},
   "outputs": [],
   "source": [
    "optimizer = torch.optim.SGD(chain(encoder.parameters(), decoder.parameters()), lr=1e-2, momentum=0.9)\n",
    "optim_scheduler = torch.optim.lr_scheduler.MultiStepLR(optimizer, [2, 4, 6, 8], gamma=0.1)"
   ]
  },
  {
   "cell_type": "code",
   "execution_count": 8,
   "metadata": {},
   "outputs": [],
   "source": [
    "criteria = nn.CrossEntropyLoss(ignore_index=-1)"
   ]
  },
  {
   "cell_type": "code",
   "execution_count": 9,
   "metadata": {},
   "outputs": [
    {
     "name": "stdout",
     "output_type": "stream",
     "text": [
      "Epoch 0001, 100.0%, avg_loss=2.6239\n",
      "Epoch 0002, 100.0%, avg_loss=1.8865\n",
      "Epoch 0003, 100.0%, avg_loss=1.8000\n",
      "Epoch 0004, 100.0%, avg_loss=1.7898\n",
      "Epoch 0005, 100.0%, avg_loss=1.7832\n",
      "Epoch 0006, 100.0%, avg_loss=1.7822\n",
      "Epoch 0007, 100.0%, avg_loss=1.7816\n",
      "Epoch 0008, 100.0%, avg_loss=1.7815\n",
      "Epoch 0009, 100.0%, avg_loss=1.7813\n",
      "Epoch 0010, 100.0%, avg_loss=1.7814\n"
     ]
    }
   ],
   "source": [
    "batch_size = 64\n",
    "\n",
    "for epoch in range(1, 11):\n",
    "    avg_loss = 0.0\n",
    "    cnt = 0\n",
    "    np.random.shuffle(data)\n",
    "    optim_scheduler.step()\n",
    "    for i in range(0, data_size - batch_size, batch_size):\n",
    "        cnt += 1\n",
    "        x_batch = data_in[i: i + batch_size]\n",
    "        y_batch = data_out[i: i + batch_size]\n",
    "        tf_batch = np.ones([batch_size, T - pivot], dtype=np.int32)\n",
    "        tf_batch[:, 1:] = y_batch[:, :-1]\n",
    "\n",
    "        x_batch = Variable(torch.LongTensor(x_batch)).cuda()\n",
    "        y_batch = Variable(torch.LongTensor(y_batch)).cuda()\n",
    "        tf_batch = Variable(torch.LongTensor(tf_batch)).cuda()\n",
    "\n",
    "        latent_code = encoder(x_batch)\n",
    "        pred = decoder(latent_code[:, -1], tf_batch, T - pivot)\n",
    "        loss = criteria(pred.view(-1, LOC_NUM - 2), torch.clamp(y_batch - 2, min=-1).view(-1))\n",
    "\n",
    "        optimizer.zero_grad()\n",
    "        loss.backward()\n",
    "        avg_loss += float(loss.data[0])\n",
    "        optimizer.step()\n",
    "        print('Epoch {:04d}, {:.1f}%, avg_loss={:.4f}'.format(epoch, i * 100 / data_size, avg_loss / cnt), end='\\r')\n",
    "    print('')\n",
    "    torch.save(encoder, '../results/sadAttenSeq2Seq/encoder')\n",
    "    torch.save(decoder, '../results/sadAttenSeq2Seq/decoder')"
   ]
  },
  {
   "cell_type": "code",
   "execution_count": null,
   "metadata": {
    "collapsed": true
   },
   "outputs": [],
   "source": []
  }
 ],
 "metadata": {
  "kernelspec": {
   "display_name": "Conda PyTorch",
   "language": "python",
   "name": "py3.6"
  },
  "language_info": {
   "codemirror_mode": {
    "name": "ipython",
    "version": 3
   },
   "file_extension": ".py",
   "mimetype": "text/x-python",
   "name": "python",
   "nbconvert_exporter": "python",
   "pygments_lexer": "ipython3",
   "version": "3.6.3"
  }
 },
 "nbformat": 4,
 "nbformat_minor": 2
}
